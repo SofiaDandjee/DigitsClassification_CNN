{
 "cells": [
  {
   "cell_type": "code",
   "execution_count": 2,
   "metadata": {},
   "outputs": [],
   "source": [
    "import time #used for benchmarking\n",
    "from torch import *\n",
    "from dlc_practical_prologue import *\n",
    "from torch import nn\n",
    "from torch import optim\n",
    "from torch.nn import functional as F"
   ]
  },
  {
   "cell_type": "code",
   "execution_count": 3,
   "metadata": {},
   "outputs": [],
   "source": [
    "import matplotlib \n",
    "from matplotlib import pyplot as plt"
   ]
  },
  {
   "cell_type": "markdown",
   "metadata": {},
   "source": [
    "# Dataset generation"
   ]
  },
  {
   "cell_type": "code",
   "execution_count": 6,
   "metadata": {},
   "outputs": [],
   "source": [
    "def generate_digit_sets(train_input, train_classes, test_input, test_classes):\n",
    "    num_samples = train_input.size(0) * 2\n",
    "    digit_train_input = train_input.view(-1, 1, 14, 14)\n",
    "    digit_test_input = test_input.view(-1, 1, 14, 14)\n",
    "    \n",
    "    digit_train_classes = train_classes.view(-1)\n",
    "    digit_test_classes = test_classes.view(-1)\n",
    "    digit_train_target = Tensor(num_samples, 10).zero_()\n",
    "    digit_test_target = Tensor(num_samples, 10).zero_()\n",
    "    for i in range(10):\n",
    "        digit_train_target[:,i] = (digit_train_classes == i) * 1.0\n",
    "        digit_test_target[:,i] = (digit_test_classes == i) * 1.0\n",
    "    \n",
    "    return digit_train_input, digit_train_target, digit_test_input, digit_test_target"
   ]
  },
  {
   "cell_type": "code",
   "execution_count": 7,
   "metadata": {},
   "outputs": [],
   "source": [
    "num_samples = 1000\n",
    "num_digits_samples = num_samples * 2\n",
    "\n",
    "train_input, train_target, train_classes, test_input, test_target, test_classes = generate_pair_sets(num_samples)\n",
    "digit_train_input, digit_train_target, digit_test_input, digit_test_target = generate_digit_sets(train_input, train_classes, test_input, test_classes)\n",
    "aux_train_target = digit_train_target.view(-1,20)"
   ]
  },
  {
   "cell_type": "code",
   "execution_count": 8,
   "metadata": {},
   "outputs": [
    {
     "name": "stdout",
     "output_type": "stream",
     "text": [
      "torch.Size([2000, 10])\n"
     ]
    }
   ],
   "source": [
    "print(digit_train_target.shape)"
   ]
  },
  {
   "cell_type": "code",
   "execution_count": 9,
   "metadata": {},
   "outputs": [],
   "source": [
    "mu, std = train_input.mean(), train_input.std();\n",
    "train_input.sub_(mu).div_(std);\n",
    "test_input.sub_(mu).div_(std);"
   ]
  },
  {
   "cell_type": "markdown",
   "metadata": {},
   "source": [
    "# Useful model methods (train, predict, evaluate performances)"
   ]
  },
  {
   "cell_type": "code",
   "execution_count": 10,
   "metadata": {},
   "outputs": [],
   "source": [
    "def total_number_of_params(model):\n",
    "    \"\"\"\n",
    "    Return the total number of trainable parameters of a model\n",
    "\n",
    "    Args:\n",
    "        model (torch.nn): pytorch neural net model\n",
    "\n",
    "    Returns:\n",
    "        int: number of trainable parameters of a model\n",
    "    \"\"\"\n",
    "    return sum(p.numel() for p in model.parameters() if p.requires_grad)"
   ]
  },
  {
   "cell_type": "code",
   "execution_count": 11,
   "metadata": {},
   "outputs": [],
   "source": [
    "def prediction_from_digit(digit_output):\n",
    "    \"\"\"\n",
    "    Return the predicted class of a comparaison between 2 digits.\n",
    "    Requires a tensor whose main dimension is divisible by 2!\n",
    "\n",
    "    Args:\n",
    "        digit_output (torch.Tensor): output of a digit regression of size (2*N, 10)\n",
    "\n",
    "    Returns:\n",
    "        torch.Tensor of size(N, 1): class of the comparaison of 2 consecutive digits\n",
    "            a row is set at 1 if the first digit is smaller than the second, 0 otherwise\n",
    "    \"\"\" \n",
    "    _, predicted_digit_classes = digit_output.max(1)\n",
    "    predicted_digit_pair = predicted_digit_classes.view(-1, 2)\n",
    "    predicted_classes = (predicted_digit_pair[:,0] - predicted_digit_pair[:,1] <= 0) * 1\n",
    "    return predicted_classes\n",
    "\n",
    "\n",
    "def prediction_from_comparaison(comp_output):\n",
    "    \"\"\"\n",
    "    Return the predicted class of a comparaison from a regression.\n",
    "\n",
    "    Args:\n",
    "        comp_output (torch.Tensor): output of a digit classifier of size (N, 1)\n",
    "\n",
    "    Returns:\n",
    "        torch.Tensor of size(N, 1): a row is set at 1 if the regression output \n",
    "            is bigger than 0.5, 0 otherwise\n",
    "    \"\"\"\n",
    "    return (comp_output >= 0.5) * 1.0\n",
    "   \n",
    "    \n",
    "def compute_nb_errors(predicted, target):\n",
    "    \"\"\"\n",
    "    Compute the number of errors between a prediction and a target\n",
    "    \n",
    "    Args:\n",
    "        predicted (torch.Tensor of size (N, D)): result from a model predictions\n",
    "        target (torch.Tensor of size (N, D)): target classes\n",
    "        \n",
    "    Returns:\n",
    "        float: error rate\n",
    "        int: total number of errors\n",
    "        int: number of samples\n",
    "    \"\"\"\n",
    "    #print(predicted.shape)\n",
    "    #print(target.shape)\n",
    "    error = (predicted != target.view(predicted.shape)) * 1.0\n",
    "    \n",
    "    return error.mean().item(), int(error.sum().item()), error.shape[0]"
   ]
  },
  {
   "cell_type": "markdown",
   "metadata": {},
   "source": [
    "# Models\n",
    "### Purely linear (= no context)"
   ]
  },
  {
   "cell_type": "code",
   "execution_count": 12,
   "metadata": {},
   "outputs": [],
   "source": [
    "def train_model(model, train_input, train_target, aux_train_target=None, mini_batch_size=100, wd = 0, lr=0.1, iterations=25, aux_loss_weight=0.5, is_digit=False, comp_target = None):\n",
    "    \"\"\"\n",
    "    Train a pytorch model with provided input and output.\n",
    "    Can also add an auxiliary target to avoid vanishing gradients\n",
    "    and get better accuracy.\n",
    "\n",
    "    Args:\n",
    "        model (torch.nn): pytorch neural net model\n",
    "        train_input (torch.Tensor of size (N, D)): training set\n",
    "        train_target (torch.Tensor of size (N, num_classes)): target set\n",
    "        aux_train_target (torch.Tensor): auxiliary target, None by default\n",
    "        mini_batch_size (int): batch size for data loading/training\n",
    "        lr (float): learning rate\n",
    "    \"\"\"\n",
    "    criterion = nn.MSELoss()\n",
    "    optimizer = optim.Adam(model.parameters(), lr=lr, weight_decay = wd)\n",
    "    training_loss = torch.empty((iterations,1))\n",
    "    training_error = torch.empty((iterations,1))\n",
    "    \n",
    "    for e in range(iterations):\n",
    "        sum_loss = 0\n",
    "        for b in range(0, train_input.size(0), mini_batch_size):\n",
    "            optimizer.zero_grad()\n",
    "            if aux_train_target is None:\n",
    "                output = model(train_input.narrow(0, b, mini_batch_size))\n",
    "                target = train_target.narrow(0, b, mini_batch_size)\n",
    "                loss = criterion(output, target)\n",
    "                \n",
    "                \n",
    "            # In the case we use also an auxiliary loss\n",
    "            # (currently works for only one additional auxiliary loss)\n",
    "            else:\n",
    "                output, output_aux = model(train_input.narrow(0, b, mini_batch_size))\n",
    "                target = train_target.narrow(0, b, mini_batch_size)\n",
    "                aux_size_factor = int(output_aux.shape[0] / output.shape[0])\n",
    "                target_aux = aux_train_target.narrow(0, aux_size_factor * b, aux_size_factor * mini_batch_size)\n",
    "                # Here, heavily penalizing auxiliary loss can result to better classification\n",
    "                #loss = (1-aux_loss_weight)*criterion(output, target) + aux_loss_weight * criterion(output_aux, target_aux)\n",
    "                loss = criterion(output, target) + aux_loss_weight * criterion(output_aux, target_aux)\n",
    "            \n",
    "            if is_digit is False:\n",
    "                predicted = prediction_from_comparaison(output)\n",
    "                error, _, _ = compute_nb_errors(predicted,target)\n",
    "            else:\n",
    "                predicted = prediction_from_digit(output)\n",
    "                error, _, _ = compute_nb_errors(predicted,comp_target.narrow(0,int(b/2),int(mini_batch_size/2)))\n",
    "            #print(error)\n",
    "            model.zero_grad()\n",
    "            loss.backward()\n",
    "            sum_loss = sum_loss + loss.item()\n",
    "            optimizer.step()    \n",
    "       \n",
    "            \n",
    "        training_loss[e] = sum_loss\n",
    "        training_error[e] = error\n",
    "        print(e, sum_loss, end = '\\r')\n",
    "\n",
    "    return training_loss, training_error"
   ]
  },
  {
   "cell_type": "code",
   "execution_count": 13,
   "metadata": {},
   "outputs": [
    {
     "name": "stdout",
     "output_type": "stream",
     "text": [
      "#parameters = 74151\n",
      "Training error rate: 0.000 (0/1000)\n",
      "Test error rate: 0.219 (219/1000)\n"
     ]
    }
   ],
   "source": [
    "def get_linear_net():\n",
    "    return nn.Sequential(\n",
    "        nn.Flatten(),\n",
    "        nn.Linear(392,150), nn.ReLU(),\n",
    "        nn.Linear(150,100), nn.ReLU(),\n",
    "        nn.Linear(100,1)\n",
    "    )\n",
    "\n",
    "linear_net = get_linear_net()\n",
    "print(\"#parameters =\", total_number_of_params(linear_net))\n",
    "train_model(linear_net, train_input, train_target.float().view(-1,1), mini_batch_size=100, lr=5e-4)\n",
    "\n",
    "train_predicted = prediction_from_comparaison(linear_net(train_input))\n",
    "print(\"Training error rate: {:.3f} ({}/{})\".format(*compute_nb_errors(train_predicted, train_target)))\n",
    "test_predicted = prediction_from_comparaison(linear_net(test_input))\n",
    "print(\"Test error rate: {:.3f} ({}/{})\".format(*compute_nb_errors(test_predicted, test_target)))"
   ]
  },
  {
   "cell_type": "markdown",
   "metadata": {},
   "source": [
    "### CNN: Using digits as training features"
   ]
  },
  {
   "cell_type": "code",
   "execution_count": 14,
   "metadata": {},
   "outputs": [
    {
     "name": "stdout",
     "output_type": "stream",
     "text": [
      "#parameters = 85826\n",
      "Training error rate: 0.000 (0/1000)\n",
      "torch.Size([1000])\n",
      "torch.Size([1000])\n",
      "Test error rate: 0.043 (43/1000)\n"
     ]
    }
   ],
   "source": [
    "def get_dig_net():\n",
    "    return nn.Sequential(\n",
    "        nn.Conv2d(1,  32, 3), nn.ReLU(), nn.MaxPool2d(2, stride = 2),\n",
    "        nn.Conv2d(32, 64, 3), nn.ReLU(), nn.MaxPool2d(2, stride = 2), nn.Flatten(),\n",
    "        nn.Linear(256, 100), nn.ReLU(),\n",
    "        nn.Linear(100, 200), nn.ReLU(),\n",
    "        nn.Linear(200, 100), nn.ReLU(),\n",
    "        nn.Linear(100,  10)\n",
    "        #nn.Conv2d(1, 32, 4) ,nn.ReLU(), nn.MaxPool2d(2, stride = 2),\n",
    "        #nn.Conv2d(32, 64, 4) ,nn.ReLU(),nn.MaxPool2d(2, stride = 2),\n",
    "        #nn.Flatten(),\n",
    "        #nn.Linear(64, 128), nn.ReLU(),\n",
    "        #nn.Linear(128, 32), nn.ReLU(),\n",
    "        #nn.Linear(32, 10)\n",
    "    )\n",
    "\n",
    "dig_net = get_dig_net()\n",
    "print(\"#parameters =\", total_number_of_params(dig_net))\n",
    "training_loss, training_error = train_model(dig_net, digit_train_input, digit_train_target, mini_batch_size=100, lr=5e-3, is_digit = True, comp_target=train_target)\n",
    "\n",
    "train_predicted = prediction_from_digit(dig_net(digit_train_input))\n",
    "print(\"Training error rate: {:.3f} ({}/{})\".format(*compute_nb_errors(train_predicted, train_target)))\n",
    "test_predicted = prediction_from_digit(dig_net(digit_test_input))\n",
    "\n",
    "print(test_predicted.shape)\n",
    "print(test_target.shape)\n",
    "print(\"Test error rate: {:.3f} ({}/{})\".format(*compute_nb_errors(test_predicted, test_target)))"
   ]
  },
  {
   "cell_type": "markdown",
   "metadata": {},
   "source": [
    "### CNN: Simple"
   ]
  },
  {
   "cell_type": "code",
   "execution_count": 15,
   "metadata": {},
   "outputs": [
    {
     "name": "stdout",
     "output_type": "stream",
     "text": [
      "#parameters = 72203\n",
      "Training error rate: 0.044 (44/1000)\n",
      "Test error rate: 0.197 (197/1000)\n"
     ]
    }
   ],
   "source": [
    "def get_comp_net_normal():\n",
    "    return nn.Sequential(\n",
    "        nn.Conv2d(2, 16, 2) ,nn.ReLU(),\n",
    "        nn.Conv2d(16, 32, 2) ,nn.ReLU(),\n",
    "        nn.Conv2d(32, 32, 2) ,nn.ReLU(), nn.MaxPool2d(2),\n",
    "        nn.Flatten(),\n",
    "        nn.Linear(800, 75), nn.ReLU(),\n",
    "        nn.Linear(75, 75), nn.ReLU(),\n",
    "        nn.Linear(75, 1)\n",
    "    )\n",
    "\n",
    "comp_net_normal = get_comp_net_normal()\n",
    "print(\"#parameters =\", total_number_of_params(comp_net_normal))\n",
    "train_model(comp_net_normal, train_input, train_target.float().view(-1,1), mini_batch_size=100, lr=5e-4)\n",
    "\n",
    "train_predicted = prediction_from_comparaison(comp_net_normal(train_input))\n",
    "print(\"Training error rate: {:.3f} ({}/{})\".format(*compute_nb_errors(train_predicted, train_target)))\n",
    "test_predicted = prediction_from_comparaison(comp_net_normal(test_input))\n",
    "print(\"Test error rate: {:.3f} ({}/{})\".format(*compute_nb_errors(test_predicted, test_target)))"
   ]
  },
  {
   "cell_type": "markdown",
   "metadata": {},
   "source": [
    "### CNN: Shared weights (sequential)"
   ]
  },
  {
   "cell_type": "code",
   "execution_count": 16,
   "metadata": {},
   "outputs": [
    {
     "name": "stdout",
     "output_type": "stream",
     "text": [
      "#parameters = 72203\n",
      "Training error rate: 0.099 (99/1000)\n",
      "Test error rate: 0.200 (200/1000)\n"
     ]
    }
   ],
   "source": [
    "def get_comp_net_shared(): \n",
    "    weight_shared_layer1 = nn.Sequential(nn.Linear(75, 75), nn.ReLU())\n",
    "    weight_shared_layer2 = nn.Sequential(nn.Linear(75, 75), nn.ReLU())\n",
    "    return nn.Sequential(\n",
    "        nn.Conv2d(2, 16, 2) ,nn.ReLU(),\n",
    "        nn.Conv2d(16, 32, 2) ,nn.ReLU(),\n",
    "        nn.Conv2d(32, 32, 2) ,nn.ReLU(), nn.MaxPool2d(2),\n",
    "        nn.Flatten(),\n",
    "        nn.Linear(800, 75), nn.ReLU(),\n",
    "        weight_shared_layer1,\n",
    "        weight_shared_layer1,\n",
    "        weight_shared_layer1,\n",
    "        nn.Linear(75, 1)\n",
    "    )\n",
    "\n",
    "comp_net_shared = get_comp_net_shared()\n",
    "print(\"#parameters =\", total_number_of_params(comp_net_shared))\n",
    "training_error = train_model(comp_net_shared, train_input, train_target.float().view(-1,1), mini_batch_size=100, lr=5e-4)\n",
    "\n",
    "train_predicted = prediction_from_comparaison(comp_net_shared(train_input))\n",
    "print(\"Training error rate: {:.3f} ({}/{})\".format(*compute_nb_errors(train_predicted, train_target)))\n",
    "test_predicted = prediction_from_comparaison(comp_net_shared(test_input))\n",
    "print(\"Test error rate: {:.3f} ({}/{})\".format(*compute_nb_errors(test_predicted, test_target)))"
   ]
  },
  {
   "cell_type": "code",
   "execution_count": 17,
   "metadata": {},
   "outputs": [
    {
     "name": "stdout",
     "output_type": "stream",
     "text": [
      "torch.Size([1000, 2, 14, 14]) torch.Size([1000, 1])\n"
     ]
    }
   ],
   "source": [
    "print(train_input.shape, train_target.float().view(-1,1).shape)"
   ]
  },
  {
   "cell_type": "markdown",
   "metadata": {},
   "source": [
    "### CNN: Auxiliary loss (on digit classes)  "
   ]
  },
  {
   "cell_type": "code",
   "execution_count": 18,
   "metadata": {},
   "outputs": [
    {
     "name": "stdout",
     "output_type": "stream",
     "text": [
      "#parameters = 74223\n",
      "Training error rate: 0.033 (33/1000)\n",
      "Test error rate: 0.057 (57/1000)\n"
     ]
    }
   ],
   "source": [
    "class AuxLossCnn(nn.Module):\n",
    "    def __init__(self):\n",
    "        super(AuxLossCnn, self).__init__()\n",
    "        self.digit_model = nn.Sequential(\n",
    "            nn.Conv2d(1, 16, 4) ,nn.ReLU(),\n",
    "            nn.Conv2d(16, 32, 4) ,nn.ReLU(),\n",
    "            nn.Conv2d(32, 32, 4) ,nn.ReLU(),\n",
    "            nn.Flatten(),\n",
    "            nn.Linear(800, 50), nn.ReLU(),\n",
    "            nn.Linear(50, 50), nn.ReLU(),\n",
    "            nn.Linear(50, 10)\n",
    "        )\n",
    "        self.comparaison_model = nn.Sequential(\n",
    "            nn.ReLU(),\n",
    "            nn.Linear(20, 50), nn.ReLU(),\n",
    "            nn.Linear(50, 50), nn.ReLU(), \n",
    "            nn.Linear(50, 50), nn.ReLU(),  \n",
    "            nn.Linear(50,  1)\n",
    "        )\n",
    "        \n",
    "    def forward(self, x):\n",
    "        x = x.view(-1, 2, 1, x.shape[2], x.shape[3])\n",
    "        dig1, dig2 = self.digit_model(x[:,0]), self.digit_model(x[:,1])\n",
    "        x = torch.cat([dig1, dig2], axis=1)\n",
    "        x_aux = x.view(-1, 10)\n",
    "        x = self.comparaison_model(x)\n",
    "        return x, x_aux\n",
    "    \n",
    "def get_aux_loss_cnn(): return AuxLossCnn()\n",
    "\n",
    "comp_net_aux_loss = AuxLossCnn()\n",
    "print(\"#parameters =\", total_number_of_params(comp_net_aux_loss))\n",
    "training_loss, training_error = train_model(comp_net_aux_loss, train_input, train_target.float().view(-1,1), aux_train_target=digit_train_target, mini_batch_size=100, lr=5e-4, aux_loss_weight=40)\n",
    "\n",
    "train_predicted = prediction_from_comparaison(comp_net_aux_loss(train_input)[0])\n",
    "print(\"Training error rate: {:.3f} ({}/{})\".format(*compute_nb_errors(train_predicted, train_target)))\n",
    "test_predicted = prediction_from_comparaison(comp_net_aux_loss(test_input)[0])\n",
    "print(\"Test error rate: {:.3f} ({}/{})\".format(*compute_nb_errors(test_predicted, test_target)))"
   ]
  },
  {
   "cell_type": "code",
   "execution_count": 19,
   "metadata": {},
   "outputs": [
    {
     "data": {
      "image/png": "[encoded data removed]",
      "text/plain": [
       "<Figure size 432x288 with 1 Axes>"
      ]
     },
     "metadata": {
      "needs_background": "light"
     },
     "output_type": "display_data"
    }
   ],
   "source": [
    "import pylab\n",
    "import numpy as np\n",
    "#weight = np.array([0.2, 0.5, 1, 2, 5, 10, 20, 50, 100, 200, 400, 500, 600, 700, 800, 1000])\n",
    "#mean = np.array([ 1-0.157, 1-0.14, 1-0.101, 1-0.056000, 1-0.044, 1-0.036, 1-0.029, 1-0.037, 1-0.037, 1-0.038, 1-0.033, 1-0.034, 1-0.04, 1-0.03,1-0.035, 1-0.04 ])\n",
    "#sigma = np.array([0.019967, 0.012649, 0.008869,  0.013466,0.014236, 0.003266,0.005033, 0.008869,0.011489,0.023664, 0.011015 , 0.007659, 0.017588, 0.009522, 0.011944, 0.013466  ])\n",
    "\n",
    "weight = np.array([0, 0.1, 0.2, 0.4, 0.5, 0.6, 0.7, 0.8, 0.9])\n",
    "mean = np.array([ 1-0.153, 1-0.158, 1-0.151, 1-0.121000, 1-0.085, 1-0.09, 1-0.058, 1-0.045, 1-0.034])\n",
    "sigma = np.array([0.023409, 0.022030, 0.055462,  0.025586,0.013614, 0.012437, 0.005164, 0.003830,0.010583 ])\n",
    "plt.plot(weight, mean, 'k')\n",
    "pylab.ylim(0.8,1)\n",
    "plt.fill_between(weight, mean-sigma, mean+sigma, alpha=0.1, facecolor = 'k', edgecolor = 'k')\n",
    "\n",
    "#plt.plot(0, 0.841, marker = \"x\", markersize = 10, label = 'Siamese Network')\n",
    "#plt.plot(0, 0.969, marker = \"x\", markersize = 10, label = 'Digit CNN')\n",
    "plt.axhline(y=0.841, color='c', linestyle='--', label = 'Siamese Network')\n",
    "plt.axhline(y=0.969, color='m', linestyle='--', label = 'Digit CNN')\n",
    "\n",
    "plt.legend()\n",
    "#plt.gca().set_xscale('log')\n",
    "plt.xlabel('Auxiliary Weight')\n",
    "plt.ylabel('Mean validation accuracy')\n",
    "plt.savefig(\"weight.png\")\n"
   ]
  },
  {
   "cell_type": "markdown",
   "metadata": {},
   "source": [
    "### CNN : Siamese Network (parallel weight sharing)"
   ]
  },
  {
   "cell_type": "code",
   "execution_count": 20,
   "metadata": {},
   "outputs": [
    {
     "name": "stdout",
     "output_type": "stream",
     "text": [
      "#parameters = 74223\n",
      "Training error rate: 0.033 (33/1000)\n",
      "Test error rate: 0.182 (182/1000)\n"
     ]
    }
   ],
   "source": [
    "class SiameseNetwork(nn.Module):\n",
    "    def __init__(self):\n",
    "        super(SiameseNetwork, self).__init__()\n",
    "        self.digit_model = nn.Sequential(\n",
    "            nn.Conv2d(1, 16, 4) ,nn.ReLU(),\n",
    "            nn.Conv2d(16, 32, 4) ,nn.ReLU(),\n",
    "            nn.Conv2d(32, 32, 4) ,nn.ReLU(),\n",
    "            nn.Flatten(),\n",
    "            nn.Linear(800, 50), nn.ReLU(),\n",
    "            nn.Linear(50, 50), nn.ReLU(),\n",
    "            nn.Linear(50, 10)\n",
    "        )\n",
    "        self.comparaison_model = nn.Sequential(\n",
    "            nn.ReLU(),\n",
    "            nn.Linear(20, 50), nn.ReLU(),\n",
    "            nn.Linear(50, 50), nn.ReLU(), \n",
    "            nn.Linear(50, 50), nn.ReLU(),  \n",
    "            nn.Linear(50,  1)\n",
    "        )\n",
    "        \n",
    "    def forward(self, x):\n",
    "        x = x.view(-1, 2, 1, x.shape[2], x.shape[3])\n",
    "        dig1, dig2 = self.digit_model(x[:,0]), self.digit_model(x[:,1])\n",
    "        x = torch.cat([dig1, dig2], axis=1)\n",
    "        x_aux = x.view(-1, 10)\n",
    "        x = self.comparaison_model(x)\n",
    "        return x\n",
    "    \n",
    "def get_siamese_net(): return SiameseNetwork()\n",
    "\n",
    "siamese_net = get_siamese_net()\n",
    "print(\"#parameters =\", total_number_of_params(siamese_net))\n",
    "training_loss1, training_error1 = train_model(siamese_net, train_input, train_target.float().view(-1,1), mini_batch_size=50, lr=5e-4)\n",
    "\n",
    "train_predicted = prediction_from_comparaison(siamese_net(train_input))\n",
    "print(\"Training error rate: {:.3f} ({}/{})\".format(*compute_nb_errors(train_predicted, train_target)))\n",
    "test_predicted = prediction_from_comparaison(siamese_net(test_input))\n",
    "print(\"Test error rate: {:.3f} ({}/{})\".format(*compute_nb_errors(test_predicted, test_target)))"
   ]
  },
  {
   "cell_type": "code",
   "execution_count": 21,
   "metadata": {},
   "outputs": [],
   "source": [
    "def evaluate_model(model_generator, lr = 5e-4, is_digit_model=False, use_aux_target=False, rounds=25, aux_loss_weight=None):\n",
    "    errors = torch.empty((rounds,1))\n",
    "    training_losses = torch.empty((rounds,25))\n",
    "    for k in range(rounds):\n",
    "        model = model_generator()\n",
    "        \n",
    "        num_samples = 1000\n",
    "        comp_train_input, comp_train_target, comp_train_classes, comp_test_input, comp_test_target, comp_test_classes = generate_pair_sets(num_samples)\n",
    "        digit_train_input, digit_train_target, digit_test_input, digit_test_target = generate_digit_sets(comp_train_input, comp_train_classes, comp_test_input, comp_test_classes)\n",
    "        \n",
    "        mu, std = comp_train_input.mean(), comp_train_input.std();\n",
    "        comp_train_input.sub_(mu).div_(std);\n",
    "        comp_test_input.sub_(mu).div_(std);\n",
    "        \n",
    "        aux_train_target = digit_train_target if use_aux_target else None       \n",
    "        model_train_input = digit_train_input if is_digit_model else comp_train_input\n",
    "        model_train_target = digit_train_target if is_digit_model else comp_train_target.float().view(-1,1)\n",
    "        model_test_input = digit_test_input if is_digit_model else comp_test_input\n",
    "        \n",
    "        _, training_error = train_model(model, model_train_input, model_train_target, mini_batch_size=100, lr=lr, aux_train_target=aux_train_target, aux_loss_weight=aux_loss_weight, is_digit=is_digit_model, comp_target = comp_train_target.float().view(-1,1))\n",
    "        \n",
    "        output = model(model_test_input)\n",
    "        if use_aux_target:\n",
    "            output = output[0]\n",
    "        \n",
    "        predicted = prediction_from_digit(output) if is_digit_model else prediction_from_comparaison(output)        \n",
    "        \n",
    "        error,_,_ = compute_nb_errors(predicted, comp_test_target)\n",
    "        errors[k] = error\n",
    "        #print(training_loss.t().shape)\n",
    "        training_losses[k] = training_error.t()\n",
    "    return (torch.mean(errors).item(), torch.std(errors).item(), torch.mean(training_losses, axis = 0))"
   ]
  },
  {
   "cell_type": "code",
   "execution_count": 22,
   "metadata": {},
   "outputs": [],
   "source": [
    "def split_dataset(train_target, k, fold, train_input):\n",
    "    n = train_input.size(0)\n",
    "    size = int(np.floor(n/fold))\n",
    "    val_input_set = train_input.narrow(0, k*size, size )\n",
    "    val_target_set = train_target.narrow(0,k*size,size)\n",
    "\n",
    "    if k == 0:\n",
    "        train_input_set = train_input.narrow(0, size, n - size)\n",
    "        train_target_set = train_target.narrow(0, size, n - size)\n",
    "\n",
    "    elif size*k == n - size:\n",
    "        train_input_set = train_input.narrow(0, 0, n - size )\n",
    "        train_target_set = train_target.narrow(0, 0, n - size )\n",
    "    else:\n",
    "        train_input_set = torch.cat((train_input.narrow(0, 0, k*size),\n",
    "                                        train_input.narrow(0, (k+1)*size, n -(k+1)*size )), 0)\n",
    "        train_target_set = torch.cat((train_target.narrow(0, 0, k*size),\n",
    "                                        train_target.narrow(0, (k+1)*size, n -(k+1)*size )), 0)\n",
    "    \n",
    "    return val_input_set, val_target_set, train_input_set, train_target_set"
   ]
  },
  {
   "cell_type": "code",
   "execution_count": null,
   "metadata": {},
   "outputs": [],
   "source": []
  },
  {
   "cell_type": "code",
   "execution_count": 23,
   "metadata": {},
   "outputs": [],
   "source": [
    "models_dict = {\n",
    "    \"Digit CNN\": {\"gen\": get_dig_net, \"aux\":False, \"is_digit\":True, \"lr\" : 1e-3},\n",
    "    \"Simple CNN\": {\"gen\": get_comp_net_normal, \"aux\": False, \"is_digit\":False, \"lr\" : 1e-3},\n",
    "    \"Weight sharing CNN\": {\"gen\": get_comp_net_shared, \"aux\": False, \"is_digit\":False, \"lr\" : 1e-3},\n",
    "    \"Siamese CNN\": {\"gen\": get_siamese_net, \"aux\": False, \"is_digit\":False, \"lr\" : 1e-3},\n",
    "    \"Auxiliary loss CNN (weight=0.5)\": {\"gen\": get_aux_loss_cnn, \"aux\": True, \"is_digit\":False, \"weight\":0.5, \"lr\" : 1e-3},\n",
    "    \"Auxiliary loss CNN (weight=2)\": {\"gen\": get_aux_loss_cnn, \"aux\": True, \"is_digit\":False, \"weight\":2, \"lr\" : 1e-3},\n",
    "    \"Auxiliary loss CNN (weight=10)\": {\"gen\": get_aux_loss_cnn, \"aux\": True, \"is_digit\":False, \"weight\":10, \"lr\" : 5e-3},\n",
    "    \"Auxiliary loss CNN (weight=40)\": {\"gen\": get_aux_loss_cnn, \"aux\": True, \"is_digit\":False, \"weight\":40, \"lr\" : 1e-3}\n",
    "}"
   ]
  },
  {
   "cell_type": "code",
   "execution_count": 24,
   "metadata": {},
   "outputs": [
    {
     "name": "stdout",
     "output_type": "stream",
     "text": [
      "Digit CNN with 10 rounds in 15.892221440900002:\n",
      "#parameters = 85826\n",
      "    mean accuracy: 0.977\n",
      "    stdv accuracy: 0.004551\n",
      "\n",
      "Simple CNN with 10 rounds in 10.707219896000003:\n",
      "#parameters = 72203\n",
      "    mean accuracy: 0.795\n",
      "    stdv accuracy: 0.014183\n",
      "\n",
      "Weight sharing CNN with 10 rounds in 10.893369039500005:\n",
      "#parameters = 72203\n",
      "    mean accuracy: 0.789\n",
      "    stdv accuracy: 0.025555\n",
      "\n",
      "Siamese CNN with 10 rounds in 16.7440100595:\n",
      "#parameters = 74223\n",
      "    mean accuracy: 0.844\n",
      "    stdv accuracy: 0.013113\n",
      "\n",
      "Auxiliary loss CNN (weight=0.5) with 10 rounds in 16.692456814999993:\n",
      "#parameters = 74223\n",
      "    mean accuracy: 0.880\n",
      "    stdv accuracy: 0.012746\n",
      "\n",
      "Auxiliary loss CNN (weight=2) with 10 rounds in 16.2377729456:\n",
      "#parameters = 74223\n",
      "    mean accuracy: 0.941\n",
      "    stdv accuracy: 0.011766\n",
      "\n",
      "Auxiliary loss CNN (weight=10) with 10 rounds in 16.2598180274:\n",
      "#parameters = 74223\n",
      "    mean accuracy: 0.968\n",
      "    stdv accuracy: 0.012237\n",
      "\n",
      "Auxiliary loss CNN (weight=40) with 10 rounds in 17.628495591800014:\n",
      "#parameters = 74223\n",
      "    mean accuracy: 0.967\n",
      "    stdv accuracy: 0.004832\n",
      "\n"
     ]
    },
    {
     "name": "stderr",
     "output_type": "stream",
     "text": [
      "The PostScript backend does not support transparency; partially transparent artists will be rendered opaque.\n",
      "The PostScript backend does not support transparency; partially transparent artists will be rendered opaque.\n"
     ]
    },
    {
     "data": {
      "image/png": "[encoded data removed]",
      "text/plain": [
       "<Figure size 432x288 with 1 Axes>"
      ]
     },
     "metadata": {
      "needs_background": "light"
     },
     "output_type": "display_data"
    }
   ],
   "source": [
    "num_rounds = 10\n",
    "plt.figure()\n",
    "for key in models_dict.keys():\n",
    "    gen = models_dict[key][\"gen\"]\n",
    "    aux_target = models_dict[key][\"aux\"]\n",
    "    digit_model = models_dict[key][\"is_digit\"]\n",
    "    aux_loss_weight = models_dict[key][\"weight\"] if aux_target else None\n",
    "    lr = models_dict[key][\"lr\"]\n",
    "    \n",
    "    \n",
    "    start = time.perf_counter()\n",
    "    mean, std, loss = evaluate_model(gen, lr = lr, is_digit_model=digit_model, use_aux_target=aux_target, rounds=num_rounds, aux_loss_weight=aux_loss_weight)\n",
    "    mean = 1 - mean\n",
    "    avg_time = (time.perf_counter() - start) / num_rounds\n",
    "    plt.plot(loss, label = \"{}\".format(key))\n",
    "    print(\"{} with {} rounds in {}:\".format(key, num_rounds, avg_time))\n",
    "    print(\"#parameters =\", total_number_of_params(gen()))\n",
    "    print(\"   training mean accuracy: {:.3f}\".format(1-loss[-1].item()))\n",
    "    print(\"    mean accuracy: {:.3f}\".format(mean))\n",
    "    print(\"    stdv accuracy: {:.6f}\".format(std))\n",
    "    print()\n",
    "plt.legend()\n",
    "plt.xlabel('Epochs')\n",
    "plt.ylabel('Training accuracy (%)')\n",
    "plt.savefig(\"training.eps\")"
   ]
  },
  {
   "cell_type": "code",
   "execution_count": 156,
   "metadata": {},
   "outputs": [
    {
     "data": {
      "image/png": "[encoded data removed]",
      "text/plain": [
       "<Figure size 432x288 with 1 Axes>"
      ]
     },
     "metadata": {
      "needs_background": "light"
     },
     "output_type": "display_data"
    }
   ],
   "source": [
    "#%matplotlib inline\n",
    "import pylab\n",
    "plt.figure()\n",
    "plt.plot(loss)\n",
    "plt.savefig(\"training.png\")"
   ]
  },
  {
   "cell_type": "markdown",
   "metadata": {},
   "source": [
    "# Cross-validation"
   ]
  },
  {
   "cell_type": "code",
   "execution_count": 29,
   "metadata": {},
   "outputs": [
    {
     "name": "stdout",
     "output_type": "stream",
     "text": [
      "Digit CNN\n",
      "0.00015980861503630877\n",
      "Lr : 0.000100 Mean Validation error : 0.037000 Std Validation error: 0.020575\n",
      "0.000554971934179775426\n",
      "Lr : 0.000500 Mean Validation error : 0.024000 Std Validation error: 0.013499\n",
      "0.001009680815637693745\n",
      "Lr : 0.001000 Mean Validation error : 0.022000 Std Validation error: 0.019889\n",
      "0.0051341376957716420324\n",
      "Lr : 0.005000 Mean Validation error : 0.044000 Std Validation error: 0.016465\n",
      "0.01.24377611279487653\n",
      "Lr : 0.010000 Mean Validation error : 0.113000 Std Validation error: 0.126759\n",
      "Simple CNN\n",
      "0.0001232747837901115\n",
      "Lr : 0.000100 Mean Validation error : 0.246000 Std Validation error: 0.038930\n",
      "0.00055568887833505877\n",
      "Lr : 0.000500 Mean Validation error : 0.228000 Std Validation error: 0.032592\n",
      "0.001112617588834837083\n",
      "Lr : 0.001000 Mean Validation error : 0.220000 Std Validation error: 0.035590\n",
      "0.005026782101369462907\n",
      "Lr : 0.005000 Mean Validation error : 0.231000 Std Validation error: 0.035103\n",
      "0.01.87321516126394275\n",
      "Lr : 0.010000 Mean Validation error : 0.280000 Std Validation error: 0.074833\n",
      "Weight sharing CNN\n",
      "0.0001281140118837357\n",
      "Lr : 0.000100 Mean Validation error : 0.261000 Std Validation error: 0.049092\n",
      "0.00058279477059841167\n",
      "Lr : 0.000500 Mean Validation error : 0.222000 Std Validation error: 0.042895\n",
      "0.00134714397415518765\n",
      "Lr : 0.001000 Mean Validation error : 0.218000 Std Validation error: 0.046619\n",
      "0.00548139457358047366\n",
      "Lr : 0.005000 Mean Validation error : 0.221000 Std Validation error: 0.048637\n",
      "0.01.78352952469140293\n",
      "Lr : 0.010000 Mean Validation error : 0.280000 Std Validation error: 0.104243\n",
      "Siamese CNN\n",
      "0.0001834458589553833\n",
      "Lr : 0.000100 Mean Validation error : 0.268000 Std Validation error: 0.042374\n",
      "0.00053370451852679254\n",
      "Lr : 0.000500 Mean Validation error : 0.171000 Std Validation error: 0.036347\n",
      "0.00151252441992983227\n",
      "Lr : 0.001000 Mean Validation error : 0.150000 Std Validation error: 0.027889\n",
      "0.00580093998461961758\n",
      "Lr : 0.005000 Mean Validation error : 0.187000 Std Validation error: 0.095922\n",
      "0.01.6693458594381809\n",
      "Lr : 0.010000 Mean Validation error : 0.405000 Std Validation error: 0.147215\n",
      "Auxiliary loss CNN (weight=0.5)\n",
      "0.0001992403864860535\n",
      "Lr : 0.000100 Mean Validation error : 0.175000 Std Validation error: 0.034075\n",
      "0.00056190645322203643\n",
      "Lr : 0.000500 Mean Validation error : 0.134000 Std Validation error: 0.032387\n",
      "0.00134394848532974723\n",
      "Lr : 0.001000 Mean Validation error : 0.121000 Std Validation error: 0.024698\n",
      "0.00528779688477516253\n",
      "Lr : 0.005000 Mean Validation error : 0.204000 Std Validation error: 0.143852\n",
      "0.01.5479886271059513\n",
      "Lr : 0.010000 Mean Validation error : 0.349000 Std Validation error: 0.147079\n",
      "Auxiliary loss CNN (weight=2)\n",
      "0.0001242969840765518\n",
      "Lr : 0.000100 Mean Validation error : 0.162000 Std Validation error: 0.014757\n",
      "0.00051065711677074434\n",
      "Lr : 0.000500 Mean Validation error : 0.085000 Std Validation error: 0.022730\n",
      "0.00124954523425549276\n",
      "Lr : 0.001000 Mean Validation error : 0.045000 Std Validation error: 0.022730\n",
      "0.005139508251100778582\n",
      "Lr : 0.005000 Mean Validation error : 0.046000 Std Validation error: 0.021705\n",
      "0.01.6897479593753815\n",
      "Lr : 0.010000 Mean Validation error : 0.294000 Std Validation error: 0.212195\n",
      "Auxiliary loss CNN (weight=10)\n",
      "0.0001137220442295074\n",
      "Lr : 0.000100 Mean Validation error : 0.178000 Std Validation error: 0.041846\n",
      "0.0005263483345508575\n",
      "Lr : 0.000500 Mean Validation error : 0.041000 Std Validation error: 0.016633\n",
      "0.00161130574531853277\n",
      "Lr : 0.001000 Mean Validation error : 0.031000 Std Validation error: 0.020790\n",
      "0.00512392899487167597\n",
      "Lr : 0.005000 Mean Validation error : 0.030000 Std Validation error: 0.016330\n",
      "0.01.36719896085560324\n",
      "Lr : 0.010000 Mean Validation error : 0.165000 Std Validation error: 0.179954\n",
      "Auxiliary loss CNN (weight=40)\n",
      "0.0001307803988456726\n",
      "Lr : 0.000100 Mean Validation error : 0.227000 Std Validation error: 0.048774\n",
      "0.0005187656641006475\n",
      "Lr : 0.000500 Mean Validation error : 0.045000 Std Validation error: 0.022730\n",
      "0.0019229096025228512\n",
      "Lr : 0.001000 Mean Validation error : 0.027000 Std Validation error: 0.017029\n",
      "0.00510685042291879653\n",
      "Lr : 0.005000 Mean Validation error : 0.031000 Std Validation error: 0.015951\n",
      "0.01.31041022855788476\n",
      "Lr : 0.010000 Mean Validation error : 0.376000 Std Validation error: 0.196537\n"
     ]
    }
   ],
   "source": [
    "for key in models_dict.keys():\n",
    "    gen = models_dict[key][\"gen\"]\n",
    "    aux_target = models_dict[key][\"aux\"]\n",
    "    digit_model = models_dict[key][\"is_digit\"]\n",
    "    aux_loss_weight = models_dict[key][\"weight\"] if aux_target else None\n",
    "    lr = models_dict[key][\"lr\"]\n",
    "    print(key)\n",
    "    cross_validation(gen, train_input, train_target, digit_train_input, digit_train_target, is_digit_model=digit_model, use_aux_target=aux_target, aux_loss_weight= aux_loss_weight, lr = lr, fold = 10)\n"
   ]
  },
  {
   "cell_type": "code",
   "execution_count": 118,
   "metadata": {},
   "outputs": [
    {
     "name": "stdout",
     "output_type": "stream",
     "text": [
      "torch.Size([1000, 2, 14, 14]) torch.Size([1000]) torch.Size([2000, 1, 14, 14]) torch.Size([2000, 10])\n"
     ]
    }
   ],
   "source": [
    "print(train_input.shape, train_target.shape, digit_train_input.shape, digit_train_target.shape)"
   ]
  },
  {
   "cell_type": "code",
   "execution_count": null,
   "metadata": {},
   "outputs": [],
   "source": []
  }
 ],
 "metadata": {
  "kernelspec": {
   "display_name": "Python 3",
   "language": "python",
   "name": "python3"
  },
  "language_info": {
   "codemirror_mode": {
    "name": "ipython",
    "version": 3
   },
   "file_extension": ".py",
   "mimetype": "text/x-python",
   "name": "python",
   "nbconvert_exporter": "python",
   "pygments_lexer": "ipython3",
   "version": "3.7.7"
  }
 },
 "nbformat": 4,
 "nbformat_minor": 4
}
